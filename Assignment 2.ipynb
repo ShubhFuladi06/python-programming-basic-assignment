{
 "cells": [
  {
   "cell_type": "code",
   "execution_count": 1,
   "metadata": {},
   "outputs": [
    {
     "name": "stdout",
     "output_type": "stream",
     "text": [
      "22 Kilometer is equal to 13.67014 Miles\n"
     ]
    }
   ],
   "source": [
    "#1. Write a Python program to convert kilometers to miles?\n",
    "def KM_To_Miles(k):\n",
    "    m = k * 0.62137\n",
    "    print(\"{} Kilometer is equal to {} Miles\".format(k,m))\n",
    "KM_To_Miles(22)    "
   ]
  },
  {
   "cell_type": "code",
   "execution_count": 2,
   "metadata": {},
   "outputs": [
    {
     "name": "stdout",
     "output_type": "stream",
     "text": [
      "55 degre celsius is equal to 131.0 fahrenheit\n"
     ]
    }
   ],
   "source": [
    "#2. Write a Python program to convert Celsius to Fahrenheit?\n",
    "def C_to_F(c):\n",
    "    f = (c * 9/5)+32\n",
    "    print(\"{} degre celsius is equal to {} fahrenheit\".format(c,f))\n",
    "C_to_F(55)"
   ]
  },
  {
   "cell_type": "code",
   "execution_count": 3,
   "metadata": {},
   "outputs": [
    {
     "name": "stdout",
     "output_type": "stream",
     "text": [
      "Enter the month11\n",
      "Enter the year2021\n",
      "   November 2021\n",
      "Mo Tu We Th Fr Sa Su\n",
      " 1  2  3  4  5  6  7\n",
      " 8  9 10 11 12 13 14\n",
      "15 16 17 18 19 20 21\n",
      "22 23 24 25 26 27 28\n",
      "29 30\n",
      "\n"
     ]
    }
   ],
   "source": [
    "#3. Write a Python program to display calendar?\n",
    "import calendar\n",
    "def display(yy,mm):\n",
    "    print(calendar.month(yy,mm))\n",
    "mm = int(input(\"Enter the month\"))\n",
    "yy = int(input(\"Enter the year\"))\n",
    "display(yy,mm)"
   ]
  },
  {
   "cell_type": "code",
   "execution_count": 4,
   "metadata": {},
   "outputs": [
    {
     "name": "stdout",
     "output_type": "stream",
     "text": [
      "enter 1st coefficient5\n",
      "enter 2nd coefficient6\n",
      "enter 3rd coefficient3\n",
      "This equation has Two complex root: (-0.6-0.4898979485566356j) (-0.6+0.4898979485566356j)\n"
     ]
    }
   ],
   "source": [
    "#4. Write a Python program to solve quadratic equation?\n",
    "import math\n",
    "import cmath\n",
    "def solver(a,b,c):\n",
    "    t = b**2 - 4*a*c\n",
    "    if t < 0:\n",
    "        sol1 = (-b-cmath.sqrt(t))/(2*a)\n",
    "        sol2 = (-b+cmath.sqrt(t))/(2*a)\n",
    "        print (\"This equation has Two complex root:\",sol1,sol2)\n",
    "    elif t == 0:\n",
    "        sol3 = (-b+math.sqrt(b**2-4*a*c))/2*a\n",
    "        print (\"This equation has one real root: \",sol3)\n",
    "    else:\n",
    "        sol4 = (-b+math.sqrt((b**2)-(4*(a*c))))/(2*a)\n",
    "        sol5 = (-b-math.sqrt((b**2)-(4*(a*c))))/(2*a)\n",
    "        print (\"This equation has two real roots solutions: \", sol4, sol5)\n",
    "a = int(input(\"enter 1st coefficient\"))\n",
    "b = int(input(\"enter 2nd coefficient\"))\n",
    "c = int(input(\"enter 3rd coefficient\"))\n",
    "solver(a,b,c)\n",
    "        \n",
    "        "
   ]
  },
  {
   "cell_type": "code",
   "execution_count": 5,
   "metadata": {},
   "outputs": [
    {
     "name": "stdout",
     "output_type": "stream",
     "text": [
      "enter 1st number to swap8\n",
      "enter 2nd number to swap9\n",
      "w1 =9 w2 = 8\n"
     ]
    }
   ],
   "source": [
    "#5. Write a Python program to swap two variables without temp variable?\n",
    "def swaping(w1,w2):\n",
    "    w1,w2 = w2,w1\n",
    "    print(\"w1 ={} w2 = {}\".format(w1,w2))\n",
    "w1 = int(input(\"enter 1st number to swap\"))\n",
    "w2 = int(input(\"enter 2nd number to swap\"))\n",
    "swaping(w1,w2)"
   ]
  }
 ],
 "metadata": {
  "kernelspec": {
   "display_name": "Python 3",
   "language": "python",
   "name": "python3"
  },
  "language_info": {
   "codemirror_mode": {
    "name": "ipython",
    "version": 3
   },
   "file_extension": ".py",
   "mimetype": "text/x-python",
   "name": "python",
   "nbconvert_exporter": "python",
   "pygments_lexer": "ipython3",
   "version": "3.8.5"
  }
 },
 "nbformat": 4,
 "nbformat_minor": 4
}
