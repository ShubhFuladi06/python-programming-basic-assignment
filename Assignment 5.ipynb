{
 "cells": [
  {
   "cell_type": "code",
   "execution_count": 1,
   "metadata": {},
   "outputs": [
    {
     "name": "stdout",
     "output_type": "stream",
     "text": [
      "enter 1st no.18\n",
      "enter 2nd no.24\n",
      "LCM is 72\n"
     ]
    }
   ],
   "source": [
    "#1. Write a Python Program to Find LCM?\n",
    "\n",
    "def LCM(L1,L2):\n",
    "    maxn = max(L1,L2)\n",
    "    while(True):\n",
    "        if(maxn % L1 == 0 and maxn % L2 == 0):\n",
    "            break\n",
    "        maxn = maxn + 1 \n",
    "    print(\"LCM is\",maxn)\n",
    "        \n",
    "\n",
    "l1 = int(input(\"enter 1st no.\"))\n",
    "l2 = int(input(\"enter 2nd no.\"))   \n",
    "LCM(l1,l2)"
   ]
  },
  {
   "cell_type": "code",
   "execution_count": 2,
   "metadata": {},
   "outputs": [
    {
     "name": "stdout",
     "output_type": "stream",
     "text": [
      "Enter first number: 54\n",
      "Enter second number: 66\n",
      "The HCF is 6\n"
     ]
    }
   ],
   "source": [
    "#2. Write a Python Program to Find HCF?\n",
    "\n",
    "def HCF(m1,m2):\n",
    "    if m1 > m2:  \n",
    "        mn = m2  \n",
    "    else:  \n",
    "        mn = m1  \n",
    "    for i in range(1,mn + 1):  \n",
    "        if((m1 % i == 0) and (m2 % i == 0)):\n",
    "            hcf = i  \n",
    "    return hcf  \n",
    "  \n",
    "m1 = int(input(\"Enter first number: \"))  \n",
    "m2 = int(input(\"Enter second number: \"))  \n",
    "print(\"The HCF is\",HCF(m1,m2))  "
   ]
  },
  {
   "cell_type": "code",
   "execution_count": 3,
   "metadata": {},
   "outputs": [
    {
     "name": "stdout",
     "output_type": "stream",
     "text": [
      "enter a decimal number58\n",
      "Binary form 0b111010\n",
      "Octal form 0o72\n",
      "Hexadecimal form 0x3a\n"
     ]
    }
   ],
   "source": [
    "#3. Write a Python Program to Convert Decimal to Binary, Octal and Hexadecimal?\n",
    "\n",
    "def DECI(D):\n",
    "    b = bin(D)\n",
    "    o = oct(D)\n",
    "    h = hex(D)\n",
    "    print(\"Binary form {}\".format(b))\n",
    "    print(\"Octal form {}\".format(o))\n",
    "    print(\"Hexadecimal form {}\".format(h))\n",
    "\n",
    "          \n",
    "d = int(input(\"enter a decimal number\"))\n",
    "DECI(d)"
   ]
  },
  {
   "cell_type": "code",
   "execution_count": 4,
   "metadata": {},
   "outputs": [
    {
     "name": "stdout",
     "output_type": "stream",
     "text": [
      "enter a charecterd\n",
      "ASCII value is 100\n"
     ]
    }
   ],
   "source": [
    "#4. Write a Python Program To Find ASCII value of a character?\n",
    "\n",
    "av = input(\"enter a charecter\")\n",
    "print(\"ASCII value is {}\".format(ord(av)))\n"
   ]
  },
  {
   "cell_type": "code",
   "execution_count": 5,
   "metadata": {},
   "outputs": [
    {
     "name": "stdout",
     "output_type": "stream",
     "text": [
      "select operation to perform \n",
      " enter 1 for Addition \n",
      " enter 2 for substraction \n",
      " enter 3 for multiplication \n",
      " enter 4 for division \n",
      "3\n",
      "enter first number85\n",
      "enter 2nd number35\n",
      "85 * 35 = 2975\n"
     ]
    }
   ],
   "source": [
    "#5. Write a Python Program to Make a Simple Calculator with 4 basic mathematical operations?\n",
    "\n",
    "op = input(\"select operation to perform \\n enter 1 for Addition \\n enter 2 for substraction \\n enter 3 for multiplication \\n enter 4 for division \\n\")\n",
    "n1 = int(input(\"enter first number\"))\n",
    "n2 = int(input(\"enter 2nd number\"))\n",
    "\n",
    "if op == '1':\n",
    "    print(n1,\"+\",n2,\"=\", n1+n2)\n",
    "elif op == '2':\n",
    "    print(n1,\"-\",n2,\"=\", n1-n2)\n",
    "elif op == '3':\n",
    "    print(n1,\"*\",n2,\"=\", n1*n2)\n",
    "elif op == '4':\n",
    "    print(n1,\"/\",n2,\"=\", n1/n2)\n",
    "else:\n",
    "    print(\"enter valid input\")"
   ]
  }
 ],
 "metadata": {
  "kernelspec": {
   "display_name": "Python 3",
   "language": "python",
   "name": "python3"
  },
  "language_info": {
   "codemirror_mode": {
    "name": "ipython",
    "version": 3
   },
   "file_extension": ".py",
   "mimetype": "text/x-python",
   "name": "python",
   "nbconvert_exporter": "python",
   "pygments_lexer": "ipython3",
   "version": "3.8.5"
  }
 },
 "nbformat": 4,
 "nbformat_minor": 4
}
