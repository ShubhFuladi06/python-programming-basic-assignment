{
 "cells": [
  {
   "cell_type": "code",
   "execution_count": 1,
   "metadata": {},
   "outputs": [
    {
     "name": "stdout",
     "output_type": "stream",
     "text": [
      "enter number5\n",
      "factorial is 120\n"
     ]
    }
   ],
   "source": [
    "#1. Write a Python Program to Find the Factorial of a Number?\n",
    "\n",
    "def fact(n):\n",
    "    if n < 0:\n",
    "        print(\"factorial of negative number is not possible\")\n",
    "    elif n==1 or n==0 :\n",
    "        print (\"factorial of {} is one\".format(n))\n",
    "    else:\n",
    "        f=1\n",
    "        while(n > 1):\n",
    "            f = f * n\n",
    "            n = n-1\n",
    "        print(\"factorial is {}\".format(f))\n",
    "\n",
    "n = int(input(\"enter number\"))\n",
    "fact(n)"
   ]
  },
  {
   "cell_type": "code",
   "execution_count": 2,
   "metadata": {},
   "outputs": [
    {
     "name": "stdout",
     "output_type": "stream",
     "text": [
      "enter number5\n",
      "5 * 1 = 5\n",
      "5 * 2 = 10\n",
      "5 * 3 = 15\n",
      "5 * 4 = 20\n",
      "5 * 5 = 25\n",
      "5 * 6 = 30\n",
      "5 * 7 = 35\n",
      "5 * 8 = 40\n",
      "5 * 9 = 45\n",
      "5 * 10 = 50\n"
     ]
    }
   ],
   "source": [
    "#2. Write a Python Program to Display the multiplication Table?\n",
    "\n",
    "def mul(H):\n",
    "    for i in range(1,11):\n",
    "        print(\"{} * {} = {}\".format(H,i,H*i))\n",
    "\n",
    "H = int(input(\"enter number\"))\n",
    "mul(H)"
   ]
  },
  {
   "cell_type": "code",
   "execution_count": 3,
   "metadata": {},
   "outputs": [
    {
     "name": "stdout",
     "output_type": "stream",
     "text": [
      "enter lenght of series8\n",
      "0\n",
      "1\n",
      "1\n",
      "2\n",
      "3\n",
      "5\n",
      "8\n",
      "13\n"
     ]
    }
   ],
   "source": [
    "#3. Write a Python Program to Print the Fibonacci sequence?\n",
    "\n",
    "def fab(B):\n",
    "    x = 0\n",
    "    y = 1\n",
    "    c = 0\n",
    "    if B <= 0:\n",
    "        print(\"series length cant be negative or zero.\")\n",
    "    elif B == 1:\n",
    "        print(0)\n",
    "    else:\n",
    "        while c < B:\n",
    "            print(x)\n",
    "            z = x + y\n",
    "            x = y\n",
    "            y = z\n",
    "            c = c+1\n",
    "\n",
    "B = int(input(\"enter lenght of series\"))\n",
    "fab(B)"
   ]
  },
  {
   "cell_type": "code",
   "execution_count": 4,
   "metadata": {},
   "outputs": [
    {
     "name": "stdout",
     "output_type": "stream",
     "text": [
      "enter a number370\n",
      "the number is armstrong\n"
     ]
    }
   ],
   "source": [
    "#4. Write a Python Program to Check Armstrong Number?\n",
    "\n",
    "def arms(a):\n",
    "    l = len(str(a))\n",
    "    s = 0\n",
    "    t = a\n",
    "    while t > 0:\n",
    "        d = t % 10\n",
    "        s = s + d**l\n",
    "        t = t//10\n",
    "    if a == s:\n",
    "        print(\"the number is armstrong\")\n",
    "    else:\n",
    "        print(\"the number is not armstrong\")\n",
    "\n",
    "a = int(input(\"enter a number\"))\n",
    "arms(a)"
   ]
  },
  {
   "cell_type": "code",
   "execution_count": 5,
   "metadata": {},
   "outputs": [
    {
     "name": "stdout",
     "output_type": "stream",
     "text": [
      "enter a number1\n",
      "enter 2nd number500\n",
      "1\n",
      "2\n",
      "3\n",
      "4\n",
      "5\n",
      "6\n",
      "7\n",
      "8\n",
      "9\n",
      "153\n",
      "370\n",
      "371\n",
      "407\n"
     ]
    }
   ],
   "source": [
    "#5. Write a Python Program to Find Armstrong Number in an Interval?\n",
    "\n",
    "def arms(a,b):\n",
    "    for i in range(a,b):\n",
    "            l = len(str(i))\n",
    "            s = 0\n",
    "            t = i\n",
    "            while t > 0:\n",
    "                \n",
    "                d = t % 10\n",
    "                s = s + d**l\n",
    "                t = t//10\n",
    "            if i == s:\n",
    "                print(i)\n",
    "\n",
    "    \n",
    "a = int(input(\"enter a number\"))\n",
    "b = int(input(\"enter 2nd number\"))\n",
    "arms(a,b)"
   ]
  },
  {
   "cell_type": "code",
   "execution_count": 6,
   "metadata": {},
   "outputs": [
    {
     "name": "stdout",
     "output_type": "stream",
     "text": [
      "enter a number500\n",
      "the sum is 125250\n"
     ]
    }
   ],
   "source": [
    "#6. Write a Python Program to Find the Sum of Natural Numbers?\n",
    "\n",
    "def nat(a):\n",
    "    if (a<0):\n",
    "        print(\"enter a natural number\")\n",
    "    else:\n",
    "        sum=0\n",
    "        while(a>0):\n",
    "            sum = sum + a\n",
    "            a = a - 1\n",
    "        print(\"the sum is {}\".format(sum))\n",
    "                     \n",
    "n1= input(\"enter a number\")\n",
    "n1=int(n1)\n",
    "nat(n1)"
   ]
  }
 ],
 "metadata": {
  "kernelspec": {
   "display_name": "Python 3",
   "language": "python",
   "name": "python3"
  },
  "language_info": {
   "codemirror_mode": {
    "name": "ipython",
    "version": 3
   },
   "file_extension": ".py",
   "mimetype": "text/x-python",
   "name": "python",
   "nbconvert_exporter": "python",
   "pygments_lexer": "ipython3",
   "version": "3.8.5"
  }
 },
 "nbformat": 4,
 "nbformat_minor": 4
}
