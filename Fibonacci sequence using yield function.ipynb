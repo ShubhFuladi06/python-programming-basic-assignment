{
 "cells": [
  {
   "cell_type": "code",
   "execution_count": 1,
   "id": "a56969ad",
   "metadata": {},
   "outputs": [],
   "source": [
    "def genfib(n):\n",
    "    a = 1\n",
    "    b = 1\n",
    "    output = []\n",
    "    for i in range(n):\n",
    "        yield a\n",
    "        a ,b = b, a+b"
   ]
  },
  {
   "cell_type": "code",
   "execution_count": 2,
   "id": "6c502fa3",
   "metadata": {},
   "outputs": [
    {
     "name": "stdout",
     "output_type": "stream",
     "text": [
      "1\n",
      "1\n",
      "2\n",
      "3\n",
      "5\n",
      "8\n",
      "13\n",
      "21\n",
      "34\n",
      "55\n",
      "89\n",
      "144\n",
      "233\n",
      "377\n",
      "610\n",
      "987\n",
      "1597\n",
      "2584\n",
      "4181\n",
      "6765\n"
     ]
    }
   ],
   "source": [
    "for i in genfib(20):\n",
    "    print(i)"
   ]
  }
 ],
 "metadata": {
  "kernelspec": {
   "display_name": "Python 3",
   "language": "python",
   "name": "python3"
  },
  "language_info": {
   "codemirror_mode": {
    "name": "ipython",
    "version": 3
   },
   "file_extension": ".py",
   "mimetype": "text/x-python",
   "name": "python",
   "nbconvert_exporter": "python",
   "pygments_lexer": "ipython3",
   "version": "3.8.8"
  }
 },
 "nbformat": 4,
 "nbformat_minor": 5
}
